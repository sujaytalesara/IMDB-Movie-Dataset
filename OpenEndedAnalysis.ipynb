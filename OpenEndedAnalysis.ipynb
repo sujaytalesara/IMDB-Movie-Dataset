{
 "cells": [
  {
   "cell_type": "code",
   "execution_count": 2,
   "metadata": {},
   "outputs": [],
   "source": [
    "import pandas as pd\n",
    "import numpy as np\n",
    "import matplotlib.pyplot as plt"
   ]
  },
  {
   "cell_type": "code",
   "execution_count": 3,
   "metadata": {},
   "outputs": [],
   "source": [
    "movieFrame = pd.read_csv('E:\\GitHub\\MovieDataset\\Dataset\\movies_data.csv')"
   ]
  },
  {
   "cell_type": "code",
   "execution_count": 4,
   "metadata": {},
   "outputs": [
    {
     "data": {
      "text/html": [
       "<div>\n",
       "<style scoped>\n",
       "    .dataframe tbody tr th:only-of-type {\n",
       "        vertical-align: middle;\n",
       "    }\n",
       "\n",
       "    .dataframe tbody tr th {\n",
       "        vertical-align: top;\n",
       "    }\n",
       "\n",
       "    .dataframe thead th {\n",
       "        text-align: right;\n",
       "    }\n",
       "</style>\n",
       "<table border=\"1\" class=\"dataframe\">\n",
       "  <thead>\n",
       "    <tr style=\"text-align: right;\">\n",
       "      <th></th>\n",
       "      <th>Movie_ID</th>\n",
       "      <th>title</th>\n",
       "      <th>year</th>\n",
       "      <th>length</th>\n",
       "      <th>budget</th>\n",
       "      <th>rating</th>\n",
       "      <th>votes</th>\n",
       "      <th>r1</th>\n",
       "      <th>r2</th>\n",
       "      <th>r3</th>\n",
       "      <th>...</th>\n",
       "      <th>Comedy</th>\n",
       "      <th>Drama</th>\n",
       "      <th>Documentary</th>\n",
       "      <th>Romance</th>\n",
       "      <th>Short</th>\n",
       "      <th>Type Genre</th>\n",
       "      <th>count</th>\n",
       "      <th>Action Comday</th>\n",
       "      <th>None</th>\n",
       "      <th>total</th>\n",
       "    </tr>\n",
       "  </thead>\n",
       "  <tbody>\n",
       "    <tr>\n",
       "      <th>0</th>\n",
       "      <td>6076</td>\n",
       "      <td>Blacksmith Scene</td>\n",
       "      <td>1893</td>\n",
       "      <td>1</td>\n",
       "      <td>NaN</td>\n",
       "      <td>7.0</td>\n",
       "      <td>90</td>\n",
       "      <td>4.5</td>\n",
       "      <td>0.0</td>\n",
       "      <td>4.5</td>\n",
       "      <td>...</td>\n",
       "      <td>0</td>\n",
       "      <td>0</td>\n",
       "      <td>0</td>\n",
       "      <td>0</td>\n",
       "      <td>1</td>\n",
       "      <td>Single</td>\n",
       "      <td>0</td>\n",
       "      <td>0</td>\n",
       "      <td>0</td>\n",
       "      <td>533.0</td>\n",
       "    </tr>\n",
       "    <tr>\n",
       "      <th>1</th>\n",
       "      <td>7725</td>\n",
       "      <td>Bucking Broncho</td>\n",
       "      <td>1894</td>\n",
       "      <td>1</td>\n",
       "      <td>NaN</td>\n",
       "      <td>4.6</td>\n",
       "      <td>30</td>\n",
       "      <td>0.0</td>\n",
       "      <td>0.0</td>\n",
       "      <td>24.5</td>\n",
       "      <td>...</td>\n",
       "      <td>0</td>\n",
       "      <td>0</td>\n",
       "      <td>1</td>\n",
       "      <td>0</td>\n",
       "      <td>1</td>\n",
       "      <td>Single</td>\n",
       "      <td>0</td>\n",
       "      <td>0</td>\n",
       "      <td>0</td>\n",
       "      <td>NaN</td>\n",
       "    </tr>\n",
       "    <tr>\n",
       "      <th>2</th>\n",
       "      <td>7767</td>\n",
       "      <td>Buffalo Dance</td>\n",
       "      <td>1894</td>\n",
       "      <td>1</td>\n",
       "      <td>NaN</td>\n",
       "      <td>5.0</td>\n",
       "      <td>35</td>\n",
       "      <td>0.0</td>\n",
       "      <td>0.0</td>\n",
       "      <td>14.5</td>\n",
       "      <td>...</td>\n",
       "      <td>0</td>\n",
       "      <td>0</td>\n",
       "      <td>1</td>\n",
       "      <td>0</td>\n",
       "      <td>1</td>\n",
       "      <td>Single</td>\n",
       "      <td>0</td>\n",
       "      <td>0</td>\n",
       "      <td>0</td>\n",
       "      <td>NaN</td>\n",
       "    </tr>\n",
       "    <tr>\n",
       "      <th>3</th>\n",
       "      <td>8214</td>\n",
       "      <td>Caicedo (with Pole)</td>\n",
       "      <td>1894</td>\n",
       "      <td>1</td>\n",
       "      <td>NaN</td>\n",
       "      <td>5.8</td>\n",
       "      <td>41</td>\n",
       "      <td>4.5</td>\n",
       "      <td>0.0</td>\n",
       "      <td>0.0</td>\n",
       "      <td>...</td>\n",
       "      <td>0</td>\n",
       "      <td>0</td>\n",
       "      <td>0</td>\n",
       "      <td>0</td>\n",
       "      <td>1</td>\n",
       "      <td>Single</td>\n",
       "      <td>0</td>\n",
       "      <td>0</td>\n",
       "      <td>0</td>\n",
       "      <td>NaN</td>\n",
       "    </tr>\n",
       "    <tr>\n",
       "      <th>4</th>\n",
       "      <td>20435</td>\n",
       "      <td>Glenroy Bros., No. 2</td>\n",
       "      <td>1894</td>\n",
       "      <td>1</td>\n",
       "      <td>NaN</td>\n",
       "      <td>4.2</td>\n",
       "      <td>15</td>\n",
       "      <td>0.0</td>\n",
       "      <td>4.5</td>\n",
       "      <td>24.5</td>\n",
       "      <td>...</td>\n",
       "      <td>0</td>\n",
       "      <td>0</td>\n",
       "      <td>1</td>\n",
       "      <td>0</td>\n",
       "      <td>1</td>\n",
       "      <td>Single</td>\n",
       "      <td>0</td>\n",
       "      <td>0</td>\n",
       "      <td>0</td>\n",
       "      <td>NaN</td>\n",
       "    </tr>\n",
       "  </tbody>\n",
       "</table>\n",
       "<p>5 rows × 30 columns</p>\n",
       "</div>"
      ],
      "text/plain": [
       "   Movie_ID                 title  year  length  budget  rating  votes   r1  \\\n",
       "0      6076      Blacksmith Scene  1893       1     NaN     7.0     90  4.5   \n",
       "1      7725       Bucking Broncho  1894       1     NaN     4.6     30  0.0   \n",
       "2      7767         Buffalo Dance  1894       1     NaN     5.0     35  0.0   \n",
       "3      8214   Caicedo (with Pole)  1894       1     NaN     5.8     41  4.5   \n",
       "4     20435  Glenroy Bros., No. 2  1894       1     NaN     4.2     15  0.0   \n",
       "\n",
       "    r2    r3  ...    Comedy  Drama  Documentary  Romance  Short  Type Genre  \\\n",
       "0  0.0   4.5  ...         0      0            0        0      1      Single   \n",
       "1  0.0  24.5  ...         0      0            1        0      1      Single   \n",
       "2  0.0  14.5  ...         0      0            1        0      1      Single   \n",
       "3  0.0   0.0  ...         0      0            0        0      1      Single   \n",
       "4  4.5  24.5  ...         0      0            1        0      1      Single   \n",
       "\n",
       "   count Action Comday  None  total  \n",
       "0      0             0     0  533.0  \n",
       "1      0             0     0    NaN  \n",
       "2      0             0     0    NaN  \n",
       "3      0             0     0    NaN  \n",
       "4      0             0     0    NaN  \n",
       "\n",
       "[5 rows x 30 columns]"
      ]
     },
     "execution_count": 4,
     "metadata": {},
     "output_type": "execute_result"
    }
   ],
   "source": [
    "movieFrame.head()"
   ]
  },
  {
   "cell_type": "code",
   "execution_count": 11,
   "metadata": {},
   "outputs": [
    {
     "data": {
      "text/plain": [
       "(58788, 25)"
      ]
     },
     "execution_count": 11,
     "metadata": {},
     "output_type": "execute_result"
    }
   ],
   "source": [
    "movieFrame.shape"
   ]
  },
  {
   "cell_type": "code",
   "execution_count": 12,
   "metadata": {},
   "outputs": [
    {
     "data": {
      "text/plain": [
       "Movie ID           0\n",
       "title              0\n",
       "year               0\n",
       "length             0\n",
       "budget         53573\n",
       "rating             0\n",
       "votes              0\n",
       "r1                 0\n",
       "r2                 0\n",
       "r3                 0\n",
       "r4                 0\n",
       "r5                 0\n",
       "r6                 0\n",
       "r7                 0\n",
       "r8                 0\n",
       "r9                 0\n",
       "r10                0\n",
       "mpaa           53864\n",
       "Action             0\n",
       "Animation          0\n",
       "Comedy             0\n",
       "Drama              0\n",
       "Documentary        0\n",
       "Romance            0\n",
       "Short              0\n",
       "dtype: int64"
      ]
     },
     "execution_count": 12,
     "metadata": {},
     "output_type": "execute_result"
    }
   ],
   "source": [
    "movieFrame.isnull().sum()"
   ]
  },
  {
   "cell_type": "code",
   "execution_count": 40,
   "metadata": {},
   "outputs": [
    {
     "data": {
      "image/png": "[encoded data removed]",
      "text/plain": [
       "<matplotlib.figure.Figure at 0x1d4253a29e8>"
      ]
     },
     "metadata": {},
     "output_type": "display_data"
    }
   ],
   "source": [
    "x = movieFrame['year']\n",
    "plt.hist(x, bins=5)\n",
    "plt.ylabel('Distribution of movies from 1900 - 2005')\n",
    "plt.show()"
   ]
  },
  {
   "cell_type": "code",
   "execution_count": 62,
   "metadata": {},
   "outputs": [
    {
     "name": "stdout",
     "output_type": "stream",
     "text": [
      "Total unique years --  113\n",
      "[1971, 1939, 1941, 1996, 1975, 2000, 2002, 1987, 1917, 1988, 1994, 1906, 1965, 1983, 1980, 1968, 1981, 1995, 1935, 1974, 1921, 1979, 1989, 1945, 1985, 1997, 1966, 1991, 1942, 1946, 1934, 1986, 2001, 1951, 1907, 1940, 2004, 1959, 1932, 1967, 1990, 1973, 1977, 1998, 1978, 1999, 1984, 2005, 1976, 1970, 1958, 1957, 1964, 1954, 1955, 2003, 1960, 1952, 1982, 1969, 1963, 1993, 1956, 1947, 1962, 1937, 1992, 1948, 1972, 1925, 1905, 1944, 1933, 1916, 1930, 1931, 1926, 1953, 1928, 1950, 1938, 1936, 1961, 1918, 1949, 1943, 1927, 1897, 1899, 1914, 1911, 1908, 1924, 1910, 1904, 1915, 1929, 1903, 1923, 1896, 1920, 1919, 1901, 1900, 1909, 1913, 1895, 1922, 1912, 1893, 1902, 1894, 1898]\n"
     ]
    }
   ],
   "source": [
    "a = movieFrame['year'].unique().tolist()\n",
    "print('Total unique years -- ',len(a))\n",
    "print(a)"
   ]
  },
  {
   "cell_type": "code",
   "execution_count": 83,
   "metadata": {},
   "outputs": [
    {
     "data": {
      "image/png": "[encoded data removed]",
      "text/plain": [
       "<matplotlib.figure.Figure at 0x1d41e92cda0>"
      ]
     },
     "metadata": {},
     "output_type": "display_data"
    }
   ],
   "source": [
    "newMovieFrame = movieFrame[movieFrame['year']>1999]\n",
    "plt.hist(newMovieFrame['year'])\n",
    "plt.ylabel('Distribution of movies from 1900 - 2005')\n",
    "plt.show()"
   ]
  },
  {
   "cell_type": "code",
   "execution_count": 97,
   "metadata": {},
   "outputs": [
    {
     "data": {
      "image/png": "[encoded data removed]",
      "text/plain": [
       "<matplotlib.figure.Figure at 0x1d424479518>"
      ]
     },
     "metadata": {},
     "output_type": "display_data"
    },
    {
     "name": "stdout",
     "output_type": "stream",
     "text": [
      "869\n"
     ]
    },
    {
     "data": {
      "image/png": "[encoded data removed]",
      "text/plain": [
       "<matplotlib.figure.Figure at 0x1d41e981cc0>"
      ]
     },
     "metadata": {},
     "output_type": "display_data"
    },
    {
     "name": "stdout",
     "output_type": "stream",
     "text": [
      "412\n"
     ]
    },
    {
     "data": {
      "image/png": "[encoded data removed]",
      "text/plain": [
       "<matplotlib.figure.Figure at 0x1d41e981940>"
      ]
     },
     "metadata": {},
     "output_type": "display_data"
    },
    {
     "name": "stdout",
     "output_type": "stream",
     "text": [
      "3096\n"
     ]
    },
    {
     "data": {
      "image/png": "[encoded data removed]",
      "text/plain": [
       "<matplotlib.figure.Figure at 0x1d422277d30>"
      ]
     },
     "metadata": {},
     "output_type": "display_data"
    },
    {
     "name": "stdout",
     "output_type": "stream",
     "text": [
      "4400\n"
     ]
    },
    {
     "data": {
      "image/png": "[encoded data removed]",
      "text/plain": [
       "<matplotlib.figure.Figure at 0x1d41ed97f28>"
      ]
     },
     "metadata": {},
     "output_type": "display_data"
    },
    {
     "name": "stdout",
     "output_type": "stream",
     "text": [
      "1174\n"
     ]
    },
    {
     "data": {
      "image/png": "[encoded data removed]",
      "text/plain": [
       "<matplotlib.figure.Figure at 0x1d41ed97080>"
      ]
     },
     "metadata": {},
     "output_type": "display_data"
    },
    {
     "name": "stdout",
     "output_type": "stream",
     "text": [
      "1084\n"
     ]
    },
    {
     "data": {
      "image/png": "[encoded data removed]",
      "text/plain": [
       "<matplotlib.figure.Figure at 0x1d415cd05f8>"
      ]
     },
     "metadata": {},
     "output_type": "display_data"
    },
    {
     "name": "stdout",
     "output_type": "stream",
     "text": [
      "2539\n"
     ]
    }
   ],
   "source": [
    "movieLabels = ('Action','Animation','Comedy','Drama','Documentary','Romance','Short')\n",
    "for value in movieLabels:\n",
    "    moviesLatest = newMovieFrame['year'][newMovieFrame[value] == 1]\n",
    "    plt.hist(moviesLatest)\n",
    "    plt.ylabel(value)\n",
    "    plt.show()\n",
    "    print(len(moviesLatest))"
   ]
  },
  {
   "cell_type": "code",
   "execution_count": 8,
   "metadata": {},
   "outputs": [
    {
     "ename": "NameError",
     "evalue": "name 'newMovieFrame' is not defined",
     "output_type": "error",
     "traceback": [
      "\u001b[1;31m---------------------------------------------------------------------------\u001b[0m",
      "\u001b[1;31mNameError\u001b[0m                                 Traceback (most recent call last)",
      "\u001b[1;32m<ipython-input-8-91f7371eea7b>\u001b[0m in \u001b[0;36m<module>\u001b[1;34m()\u001b[0m\n\u001b[0;32m      1\u001b[0m \u001b[0mmovieLabels\u001b[0m \u001b[1;33m=\u001b[0m \u001b[1;33m(\u001b[0m\u001b[1;34m'Action'\u001b[0m\u001b[1;33m,\u001b[0m\u001b[1;34m'Animation'\u001b[0m\u001b[1;33m,\u001b[0m\u001b[1;34m'Comedy'\u001b[0m\u001b[1;33m,\u001b[0m\u001b[1;34m'Drama'\u001b[0m\u001b[1;33m,\u001b[0m\u001b[1;34m'Documentary'\u001b[0m\u001b[1;33m,\u001b[0m\u001b[1;34m'Romance'\u001b[0m\u001b[1;33m,\u001b[0m\u001b[1;34m'Short'\u001b[0m\u001b[1;33m)\u001b[0m\u001b[1;33m\u001b[0m\u001b[0m\n\u001b[0;32m      2\u001b[0m \u001b[1;32mfor\u001b[0m \u001b[0mvalue\u001b[0m \u001b[1;32min\u001b[0m \u001b[0mmovieLabels\u001b[0m\u001b[1;33m:\u001b[0m\u001b[1;33m\u001b[0m\u001b[0m\n\u001b[1;32m----> 3\u001b[1;33m     \u001b[0mmoviesLatest\u001b[0m \u001b[1;33m=\u001b[0m \u001b[0mnewMovieFrame\u001b[0m\u001b[1;33m[\u001b[0m\u001b[1;34m'year'\u001b[0m\u001b[1;33m]\u001b[0m\u001b[1;33m[\u001b[0m\u001b[0mnewMovieFrame\u001b[0m\u001b[1;33m[\u001b[0m\u001b[0mvalue\u001b[0m\u001b[1;33m]\u001b[0m \u001b[1;33m==\u001b[0m \u001b[1;36m1\u001b[0m\u001b[1;33m]\u001b[0m\u001b[1;33m\u001b[0m\u001b[0m\n\u001b[0m\u001b[0;32m      4\u001b[0m     \u001b[0mplt\u001b[0m\u001b[1;33m.\u001b[0m\u001b[0mhist\u001b[0m\u001b[1;33m(\u001b[0m\u001b[0mmoviesLatest\u001b[0m\u001b[1;33m)\u001b[0m\u001b[1;33m\u001b[0m\u001b[0m\n\u001b[0;32m      5\u001b[0m     \u001b[0mplt\u001b[0m\u001b[1;33m.\u001b[0m\u001b[0mylabel\u001b[0m\u001b[1;33m(\u001b[0m\u001b[0mvalue\u001b[0m\u001b[1;33m)\u001b[0m\u001b[1;33m\u001b[0m\u001b[0m\n",
      "\u001b[1;31mNameError\u001b[0m: name 'newMovieFrame' is not defined"
     ]
    }
   ],
   "source": [
    "movieLabels = ('Action','Animation','Comedy','Drama','Documentary','Romance','Short')\n",
    "for value in movieLabels:\n",
    "    moviesLatest = newMovieFrame['year'][newMovieFrame[value] == 1]\n",
    "    plt.hist(moviesLatest)\n",
    "    plt.ylabel(value)\n",
    "    plt.show()\n",
    "    print(len(moviesLatest))"
   ]
  },
  {
   "cell_type": "code",
   "execution_count": 7,
   "metadata": {},
   "outputs": [
    {
     "name": "stdout",
     "output_type": "stream",
     "text": [
      "Movie_ID\n",
      "title\n",
      "year\n",
      "length\n",
      "budget\n",
      "rating\n",
      "votes\n",
      "r1\n",
      "r2\n",
      "r3\n",
      "r4\n",
      "r5\n",
      "r6\n",
      "r7\n",
      "r8\n",
      "r9\n",
      "r10\n",
      "mpaa\n",
      "Action\n",
      "Animation\n",
      "Comedy\n",
      "Drama\n",
      "Documentary\n",
      "Romance\n",
      "Short\n",
      "Type Genre\n",
      "count\n",
      "Action Comday\n",
      "None\n",
      "total\n"
     ]
    }
   ],
   "source": [
    "for value in movieFrame:\n",
    "    print(value['year'])\n",
    "    "
   ]
  },
  {
   "cell_type": "code",
   "execution_count": null,
   "metadata": {},
   "outputs": [],
   "source": []
  }
 ],
 "metadata": {
  "kernelspec": {
   "display_name": "Python 3",
   "language": "python",
   "name": "python3"
  },
  "language_info": {
   "codemirror_mode": {
    "name": "ipython",
    "version": 3
   },
   "file_extension": ".py",
   "mimetype": "text/x-python",
   "name": "python",
   "nbconvert_exporter": "python",
   "pygments_lexer": "ipython3",
   "version": "3.6.4"
  }
 },
 "nbformat": 4,
 "nbformat_minor": 2
}
